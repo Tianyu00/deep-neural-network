{
 "cells": [
  {
   "cell_type": "markdown",
   "metadata": {},
   "source": [
    "# Implementing a deep neutral network (DNN)"
   ]
  },
  {
   "cell_type": "markdown",
   "metadata": {},
   "source": [
    "This implementation is inspired by [*Neural Networks and Deep Learning*](http://neuralnetworksanddeeplearning.com/chap1.html) by Michael Nielsen and [*Python Machine Learning*](https://github.com/rasbt/python-machine-learning-book-3rd-edition) by Raschka, Sebastian, and Vahid Mirjalili.\n",
    "\n",
    "Other references:\n",
    "- [Backpropagation](https://en.wikipedia.org/wiki/Backpropagation)\n",
    "- [Neural Networks Demystified [Part 4: Backpropagation]](https://www.youtube.com/watch?v=GlcnxUlrtek)\n",
    "- [Matrix Differentiation](https://atmos.washington.edu/~dennis/MatrixCalculus.pdf)\n",
    "- [Matrix Calculus](https://en.wikipedia.org/wiki/Matrix_calculus)\n",
    "- [Gradient Descent](https://en.wikipedia.org/wiki/Gradient_descent)"
   ]
  },
  {
   "cell_type": "code",
   "execution_count": 1,
   "metadata": {},
   "outputs": [],
   "source": [
    "import random\n",
    "import numpy as np\n",
    "\n",
    "class DeepNeuralNetwork(object):\n",
    "    def __init__(self, sizes, random_state=1):\n",
    "        self.num_layers = len(sizes)\n",
    "        self.sizes = sizes\n",
    "        np.random.seed(random_state)\n",
    "        random.seed(np.random.normal(1))\n",
    "        self.biases = [np.random.normal(loc=0.0, scale=0.01, size=(y,1)) \n",
    "                       for y in sizes[1:]]\n",
    "        self.weights = [np.random.normal(loc=0.0, scale=0.01, size=(y,x)) \n",
    "                        for x,y in zip(sizes[:-1], sizes[1:])]\n",
    "\n",
    "    def feedforward(self, a):\n",
    "        for b,w in zip(self.biases, self.weights):\n",
    "            a = sigmoid(np.dot(w, a) + b)\n",
    "        return a\n",
    "    \n",
    "    def onehotencoding(self, y):\n",
    "        onehot = np.zeros((y.shape[0], len(np.unique(y))))\n",
    "        for idx, val in enumerate(y):\n",
    "            onehot[idx, val] = 1.\n",
    "        return onehot\n",
    "    \n",
    "    def SGD(self, X_train, y_train, epochs, mini_batch_size, eta, \n",
    "           X_test=None, y_test=None):\n",
    "        if X_test is not None: n_test = len(X_test)\n",
    "        n = len(X_train)\n",
    "        onehot = self.onehotencoding(y_train)\n",
    "        self.epochs = epochs\n",
    "        self.cost = []\n",
    "        self.train_acc = []\n",
    "        self.test_acc = []\n",
    "        for j in range(epochs):\n",
    "            indices = np.arange(X_train.shape[0])\n",
    "            random.shuffle(indices)\n",
    "            X_train = X_train[indices]\n",
    "            onehot = onehot[indices]\n",
    "            y_train = y_train[indices]\n",
    "            for k in range(0,n,mini_batch_size):\n",
    "                self.update_mini_batch(X_train[k:k+mini_batch_size], onehot[k:k+mini_batch_size], eta)\n",
    "            train_correct = self.evaluate(X_train, y_train)\n",
    "            if X_test is not None:\n",
    "                test_correct = self.evaluate(X_test, y_test)\n",
    "                self.test_acc.append(test_correct/n_test)\n",
    "                print('Epoch: %d: Train: %d / %d, Test: %d / %d' \n",
    "                      % (j+1, self.evaluate(X_train, y_train), n, self.evaluate(X_test, y_test), n_test))\n",
    "            else: \n",
    "                print('Epoch: %d: Train: %d / %d' \n",
    "                      % (j+1, self.evaluate(X_train, y_train), n))\n",
    "            self.cost.append(sum([self.cost_fn(self.feedforward(x.reshape(x.shape[0],1)),y) \n",
    "                                  for x,y in zip(X_train,y_train) ]))\n",
    "            self.train_acc.append(train_correct/n)\n",
    "            \n",
    "\n",
    "    def update_mini_batch(self, X, Y, eta):\n",
    "        nabla_b = [np.zeros(b.shape) for b in self.biases]\n",
    "        nabla_w = [np.zeros(w.shape) for w in self.weights]\n",
    "        for x, y in zip(X, Y):\n",
    "            x = x.reshape(x.shape[0],1)\n",
    "            y = y.reshape(y.shape[0],1)\n",
    "            delta_nabla_b, delta_nabla_w = self.backprop(x, y)\n",
    "            nabla_b = [nb + dnb for nb, dnb in zip(nabla_b, delta_nabla_b)]\n",
    "            nabla_w = [nw + dnw for nw, dnw in zip(nabla_w, delta_nabla_w)]\n",
    "        self.weights = [w - (eta/len(X))*nw \n",
    "                       for w, nw in zip(self.weights, nabla_w)]\n",
    "        self.biases = [b - (eta/len(X))*nb \n",
    "                       for b, nb in zip(self.biases, nabla_b)]\n",
    "        \n",
    "    def backprop(self, x, y):\n",
    "        nabla_b = [np.zeros(b.shape) for b in self.biases]\n",
    "        nabla_w = [np.zeros(w.shape) for w in self.weights]\n",
    "        activation = x\n",
    "        activations = [x]\n",
    "        zs = []\n",
    "        for b, w in zip(self.biases, self.weights):\n",
    "            z = np.dot(w, activation) + b\n",
    "            zs.append(z)\n",
    "            activation = sigmoid(z)\n",
    "            activations.append(activation)\n",
    "        # backward pass\n",
    "        delta = self.cost_derivative(activations[-1], y) * sigmoid_prime(zs[-1])\n",
    "        nabla_b[-1] = delta\n",
    "        nabla_w[-1] = np.dot(delta, activations[-2].transpose())\n",
    "        for l in range(2, self.num_layers):\n",
    "            z = zs[-l]\n",
    "            sp = sigmoid_prime(z)\n",
    "            delta = np.dot(self.weights[-l+1].transpose(), delta) * sp\n",
    "            nabla_b[-l] = delta\n",
    "            nabla_w[-l] = np.dot(delta, activations[-l-1].transpose())\n",
    "        return (nabla_b, nabla_w)\n",
    "    \n",
    "    def evaluate(self, X_test, y_test):\n",
    "        test_results = [self.feedforward(x.reshape(784,1)) for x in X_test]\n",
    "        test_results = [np.argmax(x) for x in test_results]\n",
    "        return sum([int(x==y) for x,y in zip(test_results, y_test)])\n",
    "    \n",
    "    def cost_derivative(self, output_activations, y):\n",
    "        return (output_activations-y)\n",
    "    \n",
    "    def cost_fn(self, y, yhat):\n",
    "        return sum((y-yhat)**2)\n",
    "    \n",
    "def sigmoid(z):\n",
    "    return 1. / (1. + np.exp(-np.clip(z, -250, 250)))\n",
    "def sigmoid_prime(z):\n",
    "    return sigmoid(z)*(1-sigmoid(z))"
   ]
  },
  {
   "cell_type": "markdown",
   "metadata": {},
   "source": [
    "# Example: MNIST dataset"
   ]
  },
  {
   "cell_type": "code",
   "execution_count": 2,
   "metadata": {},
   "outputs": [],
   "source": [
    "# loading MNIST using scikit-learn\n",
    "from sklearn.datasets import fetch_openml\n",
    "from sklearn.model_selection import train_test_split\n",
    "X, y = fetch_openml('mnist_784', version=1, return_X_y=True)\n",
    "y = y.astype(int)\n",
    "X = ((X/255.) - .5) * 2\n",
    "X_train, X_test, y_train, y_test = train_test_split(X, y,\n",
    "                                                   test_size=10000,\n",
    "                                                   random_state=123,\n",
    "                                                   stratify=y)"
   ]
  },
  {
   "cell_type": "code",
   "execution_count": 3,
   "metadata": {},
   "outputs": [
    {
     "name": "stdout",
     "output_type": "stream",
     "text": [
      "X_train: 60000 rows, 784 columns\n"
     ]
    }
   ],
   "source": [
    "print('X_train: %d rows, %d columns' % (X_train.shape[0], X_train.shape[1]))"
   ]
  },
  {
   "cell_type": "code",
   "execution_count": 4,
   "metadata": {},
   "outputs": [
    {
     "name": "stdout",
     "output_type": "stream",
     "text": [
      "X_test: 10000 rows, 784 columns\n"
     ]
    }
   ],
   "source": [
    "print('X_test: %d rows, %d columns' % (X_test.shape[0], X_test.shape[1]))"
   ]
  },
  {
   "cell_type": "code",
   "execution_count": 5,
   "metadata": {
    "scrolled": true
   },
   "outputs": [
    {
     "data": {
      "text/plain": [
       "<Figure size 640x480 with 10 Axes>"
      ]
     },
     "metadata": {},
     "output_type": "display_data"
    }
   ],
   "source": [
    "# Show an example of each number\n",
    "import matplotlib.pyplot as plt\n",
    "fig, ax = plt.subplots(2, 5, sharex=True, sharey=True)\n",
    "ax = ax.flatten()\n",
    "for i in range(10):\n",
    "    img = X_train[y_train == i][0].reshape(28,28)\n",
    "    ax[i].imshow(img, cmap='Greys')\n",
    "ax[0].set_xticks([])\n",
    "ax[0].set_yticks([])\n",
    "plt.tight_layout()\n",
    "plt.show()"
   ]
  },
  {
   "cell_type": "code",
   "execution_count": 6,
   "metadata": {},
   "outputs": [
    {
     "data": {
      "image/png": "[encoded data removed]",
      "text/plain": [
       "<Figure size 432x288 with 25 Axes>"
      ]
     },
     "metadata": {},
     "output_type": "display_data"
    }
   ],
   "source": [
    "# show some variations of one number\n",
    "fig, ax = plt.subplots(5,5,sharex=True,sharey=True)\n",
    "ax = ax.flatten()\n",
    "for i in range(25):\n",
    "    img = X_train[y_train==6][i].reshape(28, 28)\n",
    "    ax[i].imshow(img, cmap='Greys')\n",
    "ax[0].set_xticks([])\n",
    "ax[0].set_yticks([])\n",
    "plt.tight_layout()\n",
    "plt.show()"
   ]
  },
  {
   "cell_type": "code",
   "execution_count": 7,
   "metadata": {},
   "outputs": [],
   "source": [
    "dnn = DeepNeuralNetwork(sizes=[28*28, 100, 10])"
   ]
  },
  {
   "cell_type": "code",
   "execution_count": 8,
   "metadata": {
    "scrolled": false
   },
   "outputs": [
    {
     "name": "stdout",
     "output_type": "stream",
     "text": [
      "Epoch: 1: Train: 53932 / 60000, Test: 8959 / 10000\n",
      "Epoch: 2: Train: 55217 / 60000, Test: 9173 / 10000\n",
      "Epoch: 3: Train: 55921 / 60000, Test: 9274 / 10000\n",
      "Epoch: 4: Train: 56369 / 60000, Test: 9347 / 10000\n",
      "Epoch: 5: Train: 56622 / 60000, Test: 9379 / 10000\n",
      "Epoch: 6: Train: 56984 / 60000, Test: 9440 / 10000\n",
      "Epoch: 7: Train: 57275 / 60000, Test: 9482 / 10000\n",
      "Epoch: 8: Train: 57442 / 60000, Test: 9502 / 10000\n",
      "Epoch: 9: Train: 57647 / 60000, Test: 9535 / 10000\n",
      "Epoch: 10: Train: 57678 / 60000, Test: 9553 / 10000\n",
      "Epoch: 11: Train: 57927 / 60000, Test: 9571 / 10000\n",
      "Epoch: 12: Train: 57938 / 60000, Test: 9580 / 10000\n",
      "Epoch: 13: Train: 58115 / 60000, Test: 9603 / 10000\n",
      "Epoch: 14: Train: 58173 / 60000, Test: 9612 / 10000\n",
      "Epoch: 15: Train: 58291 / 60000, Test: 9609 / 10000\n",
      "Epoch: 16: Train: 58263 / 60000, Test: 9621 / 10000\n",
      "Epoch: 17: Train: 58439 / 60000, Test: 9637 / 10000\n",
      "Epoch: 18: Train: 58508 / 60000, Test: 9659 / 10000\n",
      "Epoch: 19: Train: 58493 / 60000, Test: 9648 / 10000\n",
      "Epoch: 20: Train: 58654 / 60000, Test: 9664 / 10000\n",
      "CPU times: user 49min 23s, sys: 26.9 s, total: 49min 50s\n",
      "Wall time: 12min 32s\n"
     ]
    }
   ],
   "source": [
    "%%time\n",
    "dnn.SGD(X_train=X_train, \n",
    "        y_train=y_train,\n",
    "        epochs=20, \n",
    "        mini_batch_size=50, \n",
    "        eta=0.5,\n",
    "        X_test=X_test, \n",
    "        y_test=y_test)"
   ]
  },
  {
   "cell_type": "code",
   "execution_count": 10,
   "metadata": {},
   "outputs": [
    {
     "data": {
      "image/png": "[encoded data removed]",
      "text/plain": [
       "<Figure size 432x288 with 1 Axes>"
      ]
     },
     "metadata": {
      "needs_background": "light"
     },
     "output_type": "display_data"
    }
   ],
   "source": [
    "# Training / Testing Accuracy\n",
    "plt.plot(range(dnn.epochs), dnn.train_acc,\n",
    "        label='training')\n",
    "plt.plot(range(dnn.epochs), dnn.test_acc,\n",
    "        label='test', linestyle='--')\n",
    "plt.ylabel('Accuracy')\n",
    "plt.xlabel('Epochs')\n",
    "plt.legend(loc='lower right')\n",
    "plt.show()"
   ]
  },
  {
   "cell_type": "code",
   "execution_count": null,
   "metadata": {},
   "outputs": [],
   "source": []
  },
  {
   "cell_type": "code",
   "execution_count": null,
   "metadata": {},
   "outputs": [],
   "source": []
  }
 ],
 "metadata": {
  "kernelspec": {
   "display_name": "Python 3",
   "language": "python",
   "name": "python3"
  },
  "language_info": {
   "codemirror_mode": {
    "name": "ipython",
    "version": 3
   },
   "file_extension": ".py",
   "mimetype": "text/x-python",
   "name": "python",
   "nbconvert_exporter": "python",
   "pygments_lexer": "ipython3",
   "version": "3.7.4"
  }
 },
 "nbformat": 4,
 "nbformat_minor": 2
}
